{
 "cells": [
  {
   "cell_type": "code",
   "execution_count": 1,
   "id": "6ff9758b",
   "metadata": {},
   "outputs": [],
   "source": [
    "#Load Libraries\n",
    "import pandas as pd\n",
    "import matplotlib.pyplot as plt"
   ]
  },
  {
   "cell_type": "code",
   "execution_count": 2,
   "id": "baa63b0e",
   "metadata": {},
   "outputs": [],
   "source": [
    "#load data\n",
    "tips = pd.read_csv(\"C:/Users/LILIAN/Desktop/Linear Regression By Levi/tips.csv\") "
   ]
  },
  {
   "cell_type": "code",
   "execution_count": 3,
   "id": "ecedc365",
   "metadata": {},
   "outputs": [
    {
     "data": {
      "text/html": [
       "<div>\n",
       "<style scoped>\n",
       "    .dataframe tbody tr th:only-of-type {\n",
       "        vertical-align: middle;\n",
       "    }\n",
       "\n",
       "    .dataframe tbody tr th {\n",
       "        vertical-align: top;\n",
       "    }\n",
       "\n",
       "    .dataframe thead th {\n",
       "        text-align: right;\n",
       "    }\n",
       "</style>\n",
       "<table border=\"1\" class=\"dataframe\">\n",
       "  <thead>\n",
       "    <tr style=\"text-align: right;\">\n",
       "      <th></th>\n",
       "      <th>total_bill</th>\n",
       "      <th>tip</th>\n",
       "      <th>sex</th>\n",
       "      <th>smoker</th>\n",
       "      <th>day</th>\n",
       "      <th>time</th>\n",
       "      <th>size</th>\n",
       "    </tr>\n",
       "  </thead>\n",
       "  <tbody>\n",
       "    <tr>\n",
       "      <th>0</th>\n",
       "      <td>16.99</td>\n",
       "      <td>1.01</td>\n",
       "      <td>Female</td>\n",
       "      <td>No</td>\n",
       "      <td>Sun</td>\n",
       "      <td>Dinner</td>\n",
       "      <td>2</td>\n",
       "    </tr>\n",
       "    <tr>\n",
       "      <th>1</th>\n",
       "      <td>10.34</td>\n",
       "      <td>1.66</td>\n",
       "      <td>Male</td>\n",
       "      <td>No</td>\n",
       "      <td>Sun</td>\n",
       "      <td>Dinner</td>\n",
       "      <td>3</td>\n",
       "    </tr>\n",
       "    <tr>\n",
       "      <th>2</th>\n",
       "      <td>21.01</td>\n",
       "      <td>3.50</td>\n",
       "      <td>Male</td>\n",
       "      <td>No</td>\n",
       "      <td>Sun</td>\n",
       "      <td>Dinner</td>\n",
       "      <td>3</td>\n",
       "    </tr>\n",
       "  </tbody>\n",
       "</table>\n",
       "</div>"
      ],
      "text/plain": [
       "   total_bill   tip     sex smoker  day    time  size\n",
       "0       16.99  1.01  Female     No  Sun  Dinner     2\n",
       "1       10.34  1.66    Male     No  Sun  Dinner     3\n",
       "2       21.01  3.50    Male     No  Sun  Dinner     3"
      ]
     },
     "execution_count": 3,
     "metadata": {},
     "output_type": "execute_result"
    }
   ],
   "source": [
    "#see the first 3 rows of the data\n",
    "tips.head(3)"
   ]
  },
  {
   "cell_type": "code",
   "execution_count": null,
   "id": "a00b9bbc",
   "metadata": {},
   "outputs": [],
   "source": []
  },
  {
   "cell_type": "markdown",
   "id": "849c27b0",
   "metadata": {},
   "source": [
    "#### EXPLORATORY ANALYSIS"
   ]
  },
  {
   "cell_type": "code",
   "execution_count": 4,
   "id": "d49f44a1",
   "metadata": {},
   "outputs": [
    {
     "data": {
      "text/plain": [
       "1"
      ]
     },
     "execution_count": 4,
     "metadata": {},
     "output_type": "execute_result"
    }
   ],
   "source": [
    "#the number of duplicates\n",
    "tips.duplicated().sum()"
   ]
  },
  {
   "cell_type": "code",
   "execution_count": 5,
   "id": "8212771a",
   "metadata": {},
   "outputs": [
    {
     "data": {
      "text/html": [
       "<div>\n",
       "<style scoped>\n",
       "    .dataframe tbody tr th:only-of-type {\n",
       "        vertical-align: middle;\n",
       "    }\n",
       "\n",
       "    .dataframe tbody tr th {\n",
       "        vertical-align: top;\n",
       "    }\n",
       "\n",
       "    .dataframe thead th {\n",
       "        text-align: right;\n",
       "    }\n",
       "</style>\n",
       "<table border=\"1\" class=\"dataframe\">\n",
       "  <thead>\n",
       "    <tr style=\"text-align: right;\">\n",
       "      <th></th>\n",
       "      <th>total_bill</th>\n",
       "      <th>tip</th>\n",
       "      <th>size</th>\n",
       "    </tr>\n",
       "  </thead>\n",
       "  <tbody>\n",
       "    <tr>\n",
       "      <th>count</th>\n",
       "      <td>244.000000</td>\n",
       "      <td>244.000000</td>\n",
       "      <td>244.000000</td>\n",
       "    </tr>\n",
       "    <tr>\n",
       "      <th>mean</th>\n",
       "      <td>19.785943</td>\n",
       "      <td>2.998279</td>\n",
       "      <td>2.569672</td>\n",
       "    </tr>\n",
       "    <tr>\n",
       "      <th>std</th>\n",
       "      <td>8.902412</td>\n",
       "      <td>1.383638</td>\n",
       "      <td>0.951100</td>\n",
       "    </tr>\n",
       "    <tr>\n",
       "      <th>min</th>\n",
       "      <td>3.070000</td>\n",
       "      <td>1.000000</td>\n",
       "      <td>1.000000</td>\n",
       "    </tr>\n",
       "    <tr>\n",
       "      <th>25%</th>\n",
       "      <td>13.347500</td>\n",
       "      <td>2.000000</td>\n",
       "      <td>2.000000</td>\n",
       "    </tr>\n",
       "    <tr>\n",
       "      <th>50%</th>\n",
       "      <td>17.795000</td>\n",
       "      <td>2.900000</td>\n",
       "      <td>2.000000</td>\n",
       "    </tr>\n",
       "    <tr>\n",
       "      <th>75%</th>\n",
       "      <td>24.127500</td>\n",
       "      <td>3.562500</td>\n",
       "      <td>3.000000</td>\n",
       "    </tr>\n",
       "    <tr>\n",
       "      <th>max</th>\n",
       "      <td>50.810000</td>\n",
       "      <td>10.000000</td>\n",
       "      <td>6.000000</td>\n",
       "    </tr>\n",
       "  </tbody>\n",
       "</table>\n",
       "</div>"
      ],
      "text/plain": [
       "       total_bill         tip        size\n",
       "count  244.000000  244.000000  244.000000\n",
       "mean    19.785943    2.998279    2.569672\n",
       "std      8.902412    1.383638    0.951100\n",
       "min      3.070000    1.000000    1.000000\n",
       "25%     13.347500    2.000000    2.000000\n",
       "50%     17.795000    2.900000    2.000000\n",
       "75%     24.127500    3.562500    3.000000\n",
       "max     50.810000   10.000000    6.000000"
      ]
     },
     "execution_count": 5,
     "metadata": {},
     "output_type": "execute_result"
    }
   ],
   "source": [
    "#for the summary statistics\n",
    "tips.describe()"
   ]
  },
  {
   "cell_type": "code",
   "execution_count": 6,
   "id": "59430c11",
   "metadata": {},
   "outputs": [
    {
     "data": {
      "text/plain": [
       "total_bill    0\n",
       "tip           0\n",
       "sex           0\n",
       "smoker        0\n",
       "day           0\n",
       "time          0\n",
       "size          0\n",
       "dtype: int64"
      ]
     },
     "execution_count": 6,
     "metadata": {},
     "output_type": "execute_result"
    }
   ],
   "source": [
    "#Find null values\n",
    "tips.isnull().sum()"
   ]
  },
  {
   "cell_type": "code",
   "execution_count": 7,
   "id": "c5b07ac2",
   "metadata": {},
   "outputs": [
    {
     "data": {
      "text/plain": [
       "total_bill    float64\n",
       "tip           float64\n",
       "sex            object\n",
       "smoker         object\n",
       "day            object\n",
       "time           object\n",
       "size            int64\n",
       "dtype: object"
      ]
     },
     "execution_count": 7,
     "metadata": {},
     "output_type": "execute_result"
    }
   ],
   "source": [
    "#Datatypes\n",
    "tips.dtypes"
   ]
  },
  {
   "cell_type": "code",
   "execution_count": 8,
   "id": "57b8a9d0",
   "metadata": {},
   "outputs": [
    {
     "data": {
      "text/plain": [
       "total_bill    229\n",
       "tip           123\n",
       "sex             2\n",
       "smoker          2\n",
       "day             4\n",
       "time            2\n",
       "size            6\n",
       "dtype: int64"
      ]
     },
     "execution_count": 8,
     "metadata": {},
     "output_type": "execute_result"
    }
   ],
   "source": [
    "#count uniue values in each column \n",
    "tips.nunique()"
   ]
  },
  {
   "cell_type": "code",
   "execution_count": 9,
   "id": "cf488336",
   "metadata": {},
   "outputs": [
    {
     "data": {
      "text/plain": [
       "0      7\n",
       "1      7\n",
       "2      7\n",
       "3      7\n",
       "4      7\n",
       "      ..\n",
       "239    7\n",
       "240    6\n",
       "241    6\n",
       "242    7\n",
       "243    7\n",
       "Length: 244, dtype: int64"
      ]
     },
     "execution_count": 9,
     "metadata": {},
     "output_type": "execute_result"
    }
   ],
   "source": [
    "#count unique value by each row\n",
    "tips.nunique(axis=1)"
   ]
  },
  {
   "cell_type": "code",
   "execution_count": 12,
   "id": "7263acf2",
   "metadata": {},
   "outputs": [
    {
     "data": {
      "text/plain": [
       "['total_bill', 'tip', 'sex', 'smoker', 'day', 'time', 'size']"
      ]
     },
     "execution_count": 12,
     "metadata": {},
     "output_type": "execute_result"
    }
   ],
   "source": [
    "#to check the column names\n",
    "list(tips.columns)"
   ]
  },
  {
   "cell_type": "code",
   "execution_count": 110,
   "id": "2f60d335",
   "metadata": {},
   "outputs": [],
   "source": [
    "# select relevant columns to this analysis \n",
    "#world_happiness = wh.iloc[:, [1,2,3,4,8,11]]"
   ]
  },
  {
   "cell_type": "code",
   "execution_count": 13,
   "id": "034e8d16",
   "metadata": {},
   "outputs": [],
   "source": [
    "#Drop columns not relevant to the analysis\n",
    "tips = tips.drop(columns =['sex', 'smoker','day','time','size'], axis=1)"
   ]
  },
  {
   "cell_type": "code",
   "execution_count": 14,
   "id": "dcdc58c5",
   "metadata": {
    "scrolled": true
   },
   "outputs": [
    {
     "data": {
      "text/html": [
       "<div>\n",
       "<style scoped>\n",
       "    .dataframe tbody tr th:only-of-type {\n",
       "        vertical-align: middle;\n",
       "    }\n",
       "\n",
       "    .dataframe tbody tr th {\n",
       "        vertical-align: top;\n",
       "    }\n",
       "\n",
       "    .dataframe thead th {\n",
       "        text-align: right;\n",
       "    }\n",
       "</style>\n",
       "<table border=\"1\" class=\"dataframe\">\n",
       "  <thead>\n",
       "    <tr style=\"text-align: right;\">\n",
       "      <th></th>\n",
       "      <th>total_bill</th>\n",
       "      <th>tip</th>\n",
       "    </tr>\n",
       "  </thead>\n",
       "  <tbody>\n",
       "    <tr>\n",
       "      <th>0</th>\n",
       "      <td>16.99</td>\n",
       "      <td>1.01</td>\n",
       "    </tr>\n",
       "    <tr>\n",
       "      <th>1</th>\n",
       "      <td>10.34</td>\n",
       "      <td>1.66</td>\n",
       "    </tr>\n",
       "    <tr>\n",
       "      <th>2</th>\n",
       "      <td>21.01</td>\n",
       "      <td>3.50</td>\n",
       "    </tr>\n",
       "    <tr>\n",
       "      <th>3</th>\n",
       "      <td>23.68</td>\n",
       "      <td>3.31</td>\n",
       "    </tr>\n",
       "    <tr>\n",
       "      <th>4</th>\n",
       "      <td>24.59</td>\n",
       "      <td>3.61</td>\n",
       "    </tr>\n",
       "  </tbody>\n",
       "</table>\n",
       "</div>"
      ],
      "text/plain": [
       "   total_bill   tip\n",
       "0       16.99  1.01\n",
       "1       10.34  1.66\n",
       "2       21.01  3.50\n",
       "3       23.68  3.31\n",
       "4       24.59  3.61"
      ]
     },
     "execution_count": 14,
     "metadata": {},
     "output_type": "execute_result"
    }
   ],
   "source": [
    "tips.head()"
   ]
  },
  {
   "cell_type": "markdown",
   "id": "42772e06",
   "metadata": {},
   "source": [
    "PERFORMING SOME DESCRIPTIVE STATISTICS TO CHECK THE RELATIONSHIP "
   ]
  },
  {
   "cell_type": "code",
   "execution_count": 59,
   "id": "78b11555",
   "metadata": {},
   "outputs": [
    {
     "name": "stdout",
     "output_type": "stream",
     "text": [
      "total_bill    19.785943\n",
      "tip            2.998279\n",
      "dtype: float64\n"
     ]
    }
   ],
   "source": [
    "print (tips.mean())"
   ]
  },
  {
   "cell_type": "code",
   "execution_count": 61,
   "id": "c830da51",
   "metadata": {},
   "outputs": [
    {
     "name": "stdout",
     "output_type": "stream",
     "text": [
      "0.6757341092113641\n"
     ]
    }
   ],
   "source": [
    "print(tips['total_bill'].corr(tips['tip']))"
   ]
  },
  {
   "cell_type": "markdown",
   "id": "8944fc8b",
   "metadata": {},
   "source": [
    "THE RESULT ABOVE SHOWS A STRONG POSITIVE CORRELATION. MEANING AS THE TOTAL BILL INCREASES, \n",
    "THE TIP ALSO INCREASE"
   ]
  },
  {
   "cell_type": "code",
   "execution_count": 29,
   "id": "733152f2",
   "metadata": {},
   "outputs": [
    {
     "name": "stdout",
     "output_type": "stream",
     "text": [
      "10.0\n",
      "1.0\n"
     ]
    }
   ],
   "source": [
    "#the min & max value of tip column\n",
    "print(tips['tip'].max())\n",
    "print(tips['tip'].min())"
   ]
  },
  {
   "cell_type": "code",
   "execution_count": 15,
   "id": "0511b015",
   "metadata": {},
   "outputs": [
    {
     "name": "stdout",
     "output_type": "stream",
     "text": [
      "<class 'pandas.core.frame.DataFrame'>\n",
      "RangeIndex: 244 entries, 0 to 243\n",
      "Data columns (total 2 columns):\n",
      " #   Column      Non-Null Count  Dtype  \n",
      "---  ------      --------------  -----  \n",
      " 0   total_bill  244 non-null    float64\n",
      " 1   tip         244 non-null    float64\n",
      "dtypes: float64(2)\n",
      "memory usage: 3.9 KB\n"
     ]
    }
   ],
   "source": [
    "# Basic information and description\n",
    "tips.info()"
   ]
  },
  {
   "cell_type": "code",
   "execution_count": 84,
   "id": "0d2d5cf2",
   "metadata": {},
   "outputs": [
    {
     "data": {
      "text/html": [
       "<style  type=\"text/css\" >\n",
       "#T_bba49_row0_col0,#T_bba49_row1_col1{\n",
       "            background-color:  #b40426;\n",
       "            color:  #f1f1f1;\n",
       "        }#T_bba49_row0_col1,#T_bba49_row1_col0{\n",
       "            background-color:  #3b4cc0;\n",
       "            color:  #f1f1f1;\n",
       "        }</style><table id=\"T_bba49_\" ><thead>    <tr>        <th class=\"blank level0\" ></th>        <th class=\"col_heading level0 col0\" >total_bill</th>        <th class=\"col_heading level0 col1\" >tip</th>    </tr></thead><tbody>\n",
       "                <tr>\n",
       "                        <th id=\"T_bba49_level0_row0\" class=\"row_heading level0 row0\" >total_bill</th>\n",
       "                        <td id=\"T_bba49_row0_col0\" class=\"data row0 col0\" >1.000000</td>\n",
       "                        <td id=\"T_bba49_row0_col1\" class=\"data row0 col1\" >0.675734</td>\n",
       "            </tr>\n",
       "            <tr>\n",
       "                        <th id=\"T_bba49_level0_row1\" class=\"row_heading level0 row1\" >tip</th>\n",
       "                        <td id=\"T_bba49_row1_col0\" class=\"data row1 col0\" >0.675734</td>\n",
       "                        <td id=\"T_bba49_row1_col1\" class=\"data row1 col1\" >1.000000</td>\n",
       "            </tr>\n",
       "    </tbody></table>"
      ],
      "text/plain": [
       "<pandas.io.formats.style.Styler at 0x209a4c7e5b0>"
      ]
     },
     "execution_count": 84,
     "metadata": {},
     "output_type": "execute_result"
    }
   ],
   "source": [
    "tips.corr().style.background_gradient(cmap ='coolwarm')"
   ]
  },
  {
   "cell_type": "code",
   "execution_count": 17,
   "id": "f432dad3",
   "metadata": {},
   "outputs": [],
   "source": [
    "import seaborn as sns"
   ]
  },
  {
   "cell_type": "code",
   "execution_count": 18,
   "id": "0c608b16",
   "metadata": {},
   "outputs": [],
   "source": [
    "#to check out a column of the dataset\n",
    "#tips['Happiness Score']"
   ]
  },
  {
   "cell_type": "code",
   "execution_count": 168,
   "id": "188ff7a0",
   "metadata": {},
   "outputs": [],
   "source": [
    "#to rename column\n",
    "#wh.rename(columns ={'Happiness Rank':'Happiness_Rank'}, inplace = True)"
   ]
  },
  {
   "cell_type": "markdown",
   "id": "d6828496",
   "metadata": {},
   "source": [
    "#### CORRELATION PLOT TO FIND A RELATION BETWEEN VARIABLES"
   ]
  },
  {
   "cell_type": "code",
   "execution_count": 19,
   "id": "286aa350",
   "metadata": {},
   "outputs": [
    {
     "data": {
      "image/png": "[encoded data removed]",
      "text/plain": [
       "<Figure size 432x288 with 1 Axes>"
      ]
     },
     "metadata": {
      "needs_background": "light"
     },
     "output_type": "display_data"
    }
   ],
   "source": [
    "# Draw the scatter plot\n",
    "sns.scatterplot(x=\"tip\",\n",
    "                y=\"total_bill\",\n",
    "                data=tips)\n",
    "plt.show()"
   ]
  },
  {
   "cell_type": "code",
   "execution_count": 26,
   "id": "d314d24a",
   "metadata": {},
   "outputs": [
    {
     "data": {
      "text/plain": [
       "<AxesSubplot:xlabel='tip', ylabel='total_bill'>"
      ]
     },
     "execution_count": 26,
     "metadata": {},
     "output_type": "execute_result"
    },
    {
     "data": {
      "image/png": "[encoded data removed]",
      "text/plain": [
       "<Figure size 432x288 with 1 Axes>"
      ]
     },
     "metadata": {
      "needs_background": "light"
     },
     "output_type": "display_data"
    }
   ],
   "source": [
    "# Draw a trend line on the scatter plot of total bill vs. tip \n",
    "sns.regplot(x=\"tip\",\n",
    "            y=\"total_bill\",\n",
    "            data=tips,\n",
    "            ci=None,\n",
    "            scatter_kws={'alpha': 0.5})"
   ]
  },
  {
   "cell_type": "code",
   "execution_count": 72,
   "id": "f9c123cd",
   "metadata": {},
   "outputs": [
    {
     "data": {
      "text/plain": [
       "<Figure size 432x288 with 0 Axes>"
      ]
     },
     "metadata": {},
     "output_type": "display_data"
    }
   ],
   "source": [
    "plt.savefig('save_as_a_png.png')"
   ]
  },
  {
   "cell_type": "code",
   "execution_count": 20,
   "id": "0387cb52",
   "metadata": {},
   "outputs": [
    {
     "data": {
      "text/plain": [
       "<AxesSubplot:xlabel='tip', ylabel='total_bill'>"
      ]
     },
     "execution_count": 20,
     "metadata": {},
     "output_type": "execute_result"
    },
    {
     "data": {
      "image/png": "[encoded data removed]",
      "text/plain": [
       "<Figure size 432x288 with 1 Axes>"
      ]
     },
     "metadata": {
      "needs_background": "light"
     },
     "output_type": "display_data"
    }
   ],
   "source": [
    "tips.plot.scatter(x='tip', y='total_bill')"
   ]
  },
  {
   "cell_type": "code",
   "execution_count": 22,
   "id": "dcfc575d",
   "metadata": {},
   "outputs": [],
   "source": [
    "# Import the ols function\n",
    "from statsmodels.formula.api import ols"
   ]
  },
  {
   "cell_type": "code",
   "execution_count": 23,
   "id": "79ec12ee",
   "metadata": {},
   "outputs": [],
   "source": [
    "# Create the model object\n",
    "ind_vs_dep = ols(\"total_bill ~ tip\", data=tips)"
   ]
  },
  {
   "cell_type": "code",
   "execution_count": 24,
   "id": "b4c05530",
   "metadata": {},
   "outputs": [],
   "source": [
    "# Fit the model\n",
    "ind_vs_dep = ind_vs_dep.fit()"
   ]
  },
  {
   "cell_type": "code",
   "execution_count": 25,
   "id": "8e5c1f9d",
   "metadata": {},
   "outputs": [
    {
     "name": "stdout",
     "output_type": "stream",
     "text": [
      "Intercept    6.750284\n",
      "tip          4.347714\n",
      "dtype: float64\n"
     ]
    }
   ],
   "source": [
    "# Print the parameters of the fitted model\n",
    "print(ind_vs_dep.params)"
   ]
  },
  {
   "cell_type": "raw",
   "id": "2d3598e0",
   "metadata": {},
   "source": [
    "This model above has an intercept of 6.750284, this means that on average a bill of a customer totalling $6.750284 has a zero tip.\n",
    "\n",
    "The model also has a tip coefficient of 4.347714 which means that increment by 1 on the amount of tip given will result to an expected increase on the total bill by 4.347714"
   ]
  },
  {
   "cell_type": "markdown",
   "id": "be3ab6f6",
   "metadata": {},
   "source": [
    "tip = explanatory variable\n",
    "total bill = response variable"
   ]
  },
  {
   "cell_type": "markdown",
   "id": "81911b00",
   "metadata": {},
   "source": [
    "#### PREDICTING THE TOTAL BILL OF CUSTOMERS.\n",
    "we will specify the values of each tip, feed them to the model and get a prediction for the \n",
    "corresponding total bill."
   ]
  },
  {
   "cell_type": "code",
   "execution_count": 30,
   "id": "39cf9fb8",
   "metadata": {},
   "outputs": [],
   "source": [
    "# Import numpy with alias np\n",
    "import numpy as np"
   ]
  },
  {
   "cell_type": "code",
   "execution_count": 31,
   "id": "c01208fb",
   "metadata": {},
   "outputs": [],
   "source": [
    "# Create the tip_data which is the explanatory data \n",
    "tip_data = pd.DataFrame({'tip': np.arange(0, 10.0)})"
   ]
  },
  {
   "cell_type": "code",
   "execution_count": 32,
   "id": "a553ba4c",
   "metadata": {},
   "outputs": [
    {
     "name": "stdout",
     "output_type": "stream",
     "text": [
      "   tip\n",
      "0  0.0\n",
      "1  1.0\n",
      "2  2.0\n",
      "3  3.0\n",
      "4  4.0\n",
      "5  5.0\n",
      "6  6.0\n",
      "7  7.0\n",
      "8  8.0\n",
      "9  9.0\n"
     ]
    }
   ],
   "source": [
    "# Print it\n",
    "print(tip_data)"
   ]
  },
  {
   "cell_type": "code",
   "execution_count": 33,
   "id": "924a6233",
   "metadata": {},
   "outputs": [
    {
     "name": "stdout",
     "output_type": "stream",
     "text": [
      "0     6.750284\n",
      "1    11.097998\n",
      "2    15.445712\n",
      "3    19.793426\n",
      "4    24.141141\n",
      "5    28.488855\n",
      "6    32.836569\n",
      "7    37.184283\n",
      "8    41.531997\n",
      "9    45.879712\n",
      "dtype: float64\n"
     ]
    }
   ],
   "source": [
    "# Using the model,ind_vs_dep to predict the tip_data\n",
    "total_bill = ind_vs_dep.predict(tip_data)\n",
    "\n",
    "# Print it\n",
    "print(total_bill)"
   ]
  },
  {
   "cell_type": "code",
   "execution_count": 34,
   "id": "ac26baf7",
   "metadata": {},
   "outputs": [
    {
     "name": "stdout",
     "output_type": "stream",
     "text": [
      "   tip  total_bill\n",
      "0  0.0    6.750284\n",
      "1  1.0   11.097998\n",
      "2  2.0   15.445712\n",
      "3  3.0   19.793426\n",
      "4  4.0   24.141141\n",
      "5  5.0   28.488855\n",
      "6  6.0   32.836569\n",
      "7  7.0   37.184283\n",
      "8  8.0   41.531997\n",
      "9  9.0   45.879712\n"
     ]
    }
   ],
   "source": [
    "# Create prediction_data\n",
    "prediction_data = tip_data.assign(\n",
    "    total_bill = total_bill)\n",
    "\n",
    "# Print the result\n",
    "print(prediction_data)"
   ]
  },
  {
   "cell_type": "markdown",
   "id": "6032b823",
   "metadata": {},
   "source": [
    "#### VISUALIZE THE PREDICTION"
   ]
  },
  {
   "cell_type": "code",
   "execution_count": 79,
   "id": "1aaf8152",
   "metadata": {},
   "outputs": [
    {
     "data": {
      "image/png": "[encoded data removed]",
      "text/plain": [
       "<Figure size 432x288 with 1 Axes>"
      ]
     },
     "metadata": {
      "needs_background": "light"
     },
     "output_type": "display_data"
    },
    {
     "data": {
      "text/plain": [
       "<Figure size 432x288 with 0 Axes>"
      ]
     },
     "metadata": {},
     "output_type": "display_data"
    }
   ],
   "source": [
    "# Create a new figure, fig\n",
    "fig = plt.figure()\n",
    "\n",
    "sns.regplot(x=\"tip\",\n",
    "            y=\"total_bill\",\n",
    "            data=tips,\n",
    "            ci=None)\n",
    "\n",
    "# Add a scatter plot layer to the regplot\n",
    "sns.scatterplot(x=\"tip\",y=\"total_bill\",data = prediction_data, color=\"red\")\n",
    "\n",
    "# Show the layered plot\n",
    "plt.show()\n",
    "\n",
    "#saving a seaborn file as png\n",
    "plt.savefig('save_as_a_png.png')"
   ]
  },
  {
   "cell_type": "markdown",
   "id": "3a68abfb",
   "metadata": {},
   "source": [
    "#### EXTRACTING MODEL ELEMENTS\n",
    "\n",
    "Because the model object created by ols() contains many elements. To perform further analysis on the \n",
    "model results, we need to extract its useful bits such as the model coefficients, the fitted values \n",
    "and the residuals which are the most important pieces of the linear model object. "
   ]
  },
  {
   "cell_type": "code",
   "execution_count": 38,
   "id": "e232d394",
   "metadata": {},
   "outputs": [
    {
     "name": "stdout",
     "output_type": "stream",
     "text": [
      "Intercept    6.750284\n",
      "tip          4.347714\n",
      "dtype: float64\n"
     ]
    }
   ],
   "source": [
    "# Print the model parameters of ind_vs_dep\n",
    "print(ind_vs_dep.params)"
   ]
  },
  {
   "cell_type": "code",
   "execution_count": 39,
   "id": "e77adc87",
   "metadata": {},
   "outputs": [
    {
     "name": "stdout",
     "output_type": "stream",
     "text": [
      "0      11.141475\n",
      "1      13.967489\n",
      "2      21.967283\n",
      "3      21.141218\n",
      "4      22.445532\n",
      "         ...    \n",
      "239    32.488752\n",
      "240    15.445712\n",
      "241    15.445712\n",
      "242    14.358784\n",
      "243    19.793426\n",
      "Length: 244, dtype: float64\n"
     ]
    }
   ],
   "source": [
    "# Print the fitted values of ind_vs_dep\n",
    "print(ind_vs_dep.fittedvalues)"
   ]
  },
  {
   "cell_type": "code",
   "execution_count": 40,
   "id": "5bd2f630",
   "metadata": {},
   "outputs": [
    {
     "name": "stdout",
     "output_type": "stream",
     "text": [
      "0       5.848525\n",
      "1      -3.627489\n",
      "2      -0.957283\n",
      "3       2.538782\n",
      "4       2.144468\n",
      "         ...    \n",
      "239    -3.458752\n",
      "240    11.734288\n",
      "241     7.224288\n",
      "242     3.461216\n",
      "243    -1.013426\n",
      "Length: 244, dtype: float64\n"
     ]
    }
   ],
   "source": [
    "# Print the residuals of ind_vs_dep\n",
    "print(ind_vs_dep.resid)"
   ]
  },
  {
   "cell_type": "code",
   "execution_count": 41,
   "id": "84be37e0",
   "metadata": {},
   "outputs": [
    {
     "name": "stdout",
     "output_type": "stream",
     "text": [
      "                            OLS Regression Results                            \n",
      "==============================================================================\n",
      "Dep. Variable:             total_bill   R-squared:                       0.457\n",
      "Model:                            OLS   Adj. R-squared:                  0.454\n",
      "Method:                 Least Squares   F-statistic:                     203.4\n",
      "Date:                Mon, 21 Nov 2022   Prob (F-statistic):           6.69e-34\n",
      "Time:                        11:35:41   Log-Likelihood:                -804.77\n",
      "No. Observations:                 244   AIC:                             1614.\n",
      "Df Residuals:                     242   BIC:                             1621.\n",
      "Df Model:                           1                                         \n",
      "Covariance Type:            nonrobust                                         \n",
      "==============================================================================\n",
      "                 coef    std err          t      P>|t|      [0.025      0.975]\n",
      "------------------------------------------------------------------------------\n",
      "Intercept      6.7503      1.006      6.707      0.000       4.768       8.733\n",
      "tip            4.3477      0.305     14.260      0.000       3.747       4.948\n",
      "==============================================================================\n",
      "Omnibus:                       58.831   Durbin-Watson:                   2.094\n",
      "Prob(Omnibus):                  0.000   Jarque-Bera (JB):              120.799\n",
      "Skew:                           1.185   Prob(JB):                     5.87e-27\n",
      "Kurtosis:                       5.502   Cond. No.                         8.50\n",
      "==============================================================================\n",
      "\n",
      "Notes:\n",
      "[1] Standard Errors assume that the covariance matrix of the errors is correctly specified.\n"
     ]
    }
   ],
   "source": [
    "# Print a summary of ind_vs_dep\n",
    "print(ind_vs_dep.summary())"
   ]
  },
  {
   "cell_type": "markdown",
   "id": "b6f93c8f",
   "metadata": {},
   "source": [
    "#### TO MANUALLY PREDICT THE TOTAL BILL\n",
    "Another simple way to predict the total bill are as follows"
   ]
  },
  {
   "cell_type": "code",
   "execution_count": 45,
   "id": "d4aa944d",
   "metadata": {},
   "outputs": [],
   "source": [
    "# Get the coefficients of ind_vs_dep\n",
    "data_coeffs = ind_vs_dep.params"
   ]
  },
  {
   "cell_type": "code",
   "execution_count": 46,
   "id": "c8c04b91",
   "metadata": {},
   "outputs": [],
   "source": [
    "# Get the intercept\n",
    "intercept = data_coeffs[0]"
   ]
  },
  {
   "cell_type": "code",
   "execution_count": 47,
   "id": "4e220f91",
   "metadata": {},
   "outputs": [],
   "source": [
    "# Get the slope\n",
    "slope = data_coeffs[1]"
   ]
  },
  {
   "cell_type": "code",
   "execution_count": 48,
   "id": "0b7224cf",
   "metadata": {},
   "outputs": [
    {
     "name": "stdout",
     "output_type": "stream",
     "text": [
      "         tip\n",
      "0   6.750284\n",
      "1  11.097998\n",
      "2  15.445712\n",
      "3  19.793426\n",
      "4  24.141141\n",
      "5  28.488855\n",
      "6  32.836569\n",
      "7  37.184283\n",
      "8  41.531997\n",
      "9  45.879712\n"
     ]
    }
   ],
   "source": [
    "# Manually calculate the predictions\n",
    "total_bill = intercept + slope * tip_data\n",
    "print(total_bill)"
   ]
  },
  {
   "cell_type": "code",
   "execution_count": 49,
   "id": "dc3abd0b",
   "metadata": {
    "scrolled": true
   },
   "outputs": [
    {
     "name": "stdout",
     "output_type": "stream",
     "text": [
      "         tip  predictions_auto\n",
      "0   6.750284          6.750284\n",
      "1  11.097998         11.097998\n",
      "2  15.445712         15.445712\n",
      "3  19.793426         19.793426\n",
      "4  24.141141         24.141141\n",
      "5  28.488855         28.488855\n",
      "6  32.836569         32.836569\n",
      "7  37.184283         37.184283\n",
      "8  41.531997         41.531997\n",
      "9  45.879712         45.879712\n"
     ]
    }
   ],
   "source": [
    "# Compare to the results from .predict()\n",
    "print(total_bill.assign(predictions_auto=ind_vs_dep.predict(tip_data)))"
   ]
  },
  {
   "cell_type": "markdown",
   "id": "53008c36",
   "metadata": {},
   "source": [
    "#### DRAWING DIAGNOSTIC PLOTS"
   ]
  },
  {
   "cell_type": "code",
   "execution_count": 78,
   "id": "953d26d3",
   "metadata": {},
   "outputs": [
    {
     "data": {
      "image/png": "[encoded data removed]",
      "text/plain": [
       "<Figure size 432x288 with 1 Axes>"
      ]
     },
     "metadata": {
      "needs_background": "light"
     },
     "output_type": "display_data"
    },
    {
     "data": {
      "text/plain": [
       "<Figure size 432x288 with 0 Axes>"
      ]
     },
     "metadata": {},
     "output_type": "display_data"
    }
   ],
   "source": [
    "# Plot the residuals vs. fitted values\n",
    "sns.residplot(x=\"tip\", y=\"total_bill\", data=tips, lowess=True)\n",
    "plt.xlabel(\"Fitted values\")\n",
    "plt.ylabel(\"Residuals\")\n",
    "\n",
    "# Show the plot\n",
    "plt.show()\n",
    "\n",
    "#saving a pdf file\n",
    "plt.savefig('saving-a-seaborn-plot-as-pdf-file.pdf')"
   ]
  },
  {
   "cell_type": "markdown",
   "id": "0f6d6637",
   "metadata": {},
   "source": [
    "#### CREATE THE Q-Q PLOT OF THE RESIDUALS"
   ]
  },
  {
   "cell_type": "code",
   "execution_count": 52,
   "id": "08491577",
   "metadata": {},
   "outputs": [],
   "source": [
    "# Import qqplot\n",
    "from statsmodels.api import qqplot"
   ]
  },
  {
   "cell_type": "code",
   "execution_count": 77,
   "id": "39f6bf5f",
   "metadata": {},
   "outputs": [
    {
     "data": {
      "image/png": "[encoded data removed]",
      "text/plain": [
       "<Figure size 432x288 with 1 Axes>"
      ]
     },
     "metadata": {
      "needs_background": "light"
     },
     "output_type": "display_data"
    },
    {
     "data": {
      "text/plain": [
       "<Figure size 432x288 with 0 Axes>"
      ]
     },
     "metadata": {},
     "output_type": "display_data"
    }
   ],
   "source": [
    "# Create the Q-Q plot of the residuals\n",
    "qqplot(data=ind_vs_dep.resid, fit=True, line=\"45\")\n",
    "\n",
    "# Show the plot\n",
    "plt.show()\n",
    "\n",
    "#saving a eps file\n",
    "plt.savefig('saving-a-seaborn-plot-as-eps-file.eps')"
   ]
  },
  {
   "cell_type": "markdown",
   "id": "5a9c4309",
   "metadata": {},
   "source": [
    "#### CREATE THE SCALE LOCATION PLOT"
   ]
  },
  {
   "cell_type": "code",
   "execution_count": 57,
   "id": "ab9f1f57",
   "metadata": {},
   "outputs": [],
   "source": [
    "# Preprocessing steps\n",
    "model_norm_residuals = ind_vs_dep.get_influence().resid_studentized_internal\n",
    "model_norm_residuals_abs_sqrt = np.sqrt(np.abs(model_norm_residuals))"
   ]
  },
  {
   "cell_type": "code",
   "execution_count": 80,
   "id": "da3c69df",
   "metadata": {
    "scrolled": true
   },
   "outputs": [
    {
     "data": {
      "image/png": "[encoded data removed]",
      "text/plain": [
       "<Figure size 432x288 with 1 Axes>"
      ]
     },
     "metadata": {
      "needs_background": "light"
     },
     "output_type": "display_data"
    },
    {
     "data": {
      "text/plain": [
       "<Figure size 432x288 with 0 Axes>"
      ]
     },
     "metadata": {},
     "output_type": "display_data"
    }
   ],
   "source": [
    "# Create the scale-location plot\n",
    "sns.regplot(x=ind_vs_dep.fittedvalues, y=model_norm_residuals_abs_sqrt, ci=None, lowess=True)\n",
    "plt.xlabel(\"Fitted values\")\n",
    "plt.ylabel(\"Sqrt of abs val of stdized residuals\")\n",
    "\n",
    "# Show the plot\n",
    "plt.show()\n",
    "\n",
    "plt.savefig('save_as_a_png.png')"
   ]
  },
  {
   "cell_type": "markdown",
   "id": "ea8b1d54",
   "metadata": {},
   "source": [
    "The above (three diagnostic) plots help to check the quality of the models."
   ]
  }
 ],
 "metadata": {
  "kernelspec": {
   "display_name": "Python 3",
   "language": "python",
   "name": "python3"
  },
  "language_info": {
   "codemirror_mode": {
    "name": "ipython",
    "version": 3
   },
   "file_extension": ".py",
   "mimetype": "text/x-python",
   "name": "python",
   "nbconvert_exporter": "python",
   "pygments_lexer": "ipython3",
   "version": "3.8.8"
  }
 },
 "nbformat": 4,
 "nbformat_minor": 5
}
